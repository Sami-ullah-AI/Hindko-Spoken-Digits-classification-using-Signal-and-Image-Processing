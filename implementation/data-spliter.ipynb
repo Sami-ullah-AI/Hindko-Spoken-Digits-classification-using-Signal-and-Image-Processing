{
 "cells": [
  {
   "cell_type": "code",
   "execution_count": 1,
   "id": "20e1ab7a",
   "metadata": {},
   "outputs": [
    {
     "name": "stderr",
     "output_type": "stream",
     "text": [
      "Copying files: 17638 files [04:13, 69.59 files/s]\n"
     ]
    }
   ],
   "source": [
    "import splitfolders\n",
    "\n",
    "# Split with a ratio.\n",
    "# To only split into training and validation set, set a tuple to `ratio`, i.e, `(.8, .2)`.\n",
    "splitfolders.ratio(r\"D:\\Desktop\\Cd rive All with project\\MS-projects\\Hindko Spoken Digits\\images-Dataset - Copy\", output=r\"D:\\Desktop\\Cd rive All with project\\MS-projects\\Hindko Spoken Digits\\distr_2\",\n",
    "    seed=1337, ratio=(.7, .2, .1), group_prefix=None, move=False) # default values"
   ]
  },
  {
   "cell_type": "code",
   "execution_count": 2,
   "id": "ad435b99",
   "metadata": {},
   "outputs": [
    {
     "name": "stderr",
     "output_type": "stream",
     "text": [
      "Copying files: 1333 files [00:03, 365.60 files/s]\n"
     ]
    }
   ],
   "source": [
    "import splitfolders\n",
    "\n",
    "# Split with a ratio.\n",
    "# To only split into training and validation set, set a tuple to `ratio`, i.e, `(.8, .2)`.\n",
    "splitfolders.ratio(\"D:\\Desktop\\Cd rive All with project\\MS-projects\\Hindko Spoken Digits\\images-Dataset - Copy\", output=\"D:\\Desktop\\Cd rive All with project\\MS-projects\\Hindko Spoken Digits\\data_distribution\\70-30\",\n",
    "    seed=1337, ratio=(.7, .3), group_prefix=None, move=False) # default values"
   ]
  },
  {
   "cell_type": "code",
   "execution_count": 3,
   "id": "34d70592",
   "metadata": {},
   "outputs": [
    {
     "name": "stderr",
     "output_type": "stream",
     "text": [
      "Copying files: 1333 files [00:03, 341.27 files/s]\n"
     ]
    }
   ],
   "source": [
    "import splitfolders\n",
    "\n",
    "# Split with a ratio.\n",
    "# To only split into training and validation set, set a tuple to `ratio`, i.e, `(.8, .2)`.\n",
    "splitfolders.ratio(\"D:\\Desktop\\Cd rive All with project\\MS-projects\\Hindko Spoken Digits\\images-Dataset - Copy\", output=\"D:\\Desktop\\Cd rive All with project\\MS-projects\\Hindko Spoken Digits\\data_distribution\\60-40\",\n",
    "    seed=1337, ratio=(.8, .2), group_prefix=None, move=False) # default values"
   ]
  },
  {
   "cell_type": "code",
   "execution_count": null,
   "id": "aba39a4b",
   "metadata": {},
   "outputs": [],
   "source": []
  }
 ],
 "metadata": {
  "kernelspec": {
   "display_name": "Python 3 (ipykernel)",
   "language": "python",
   "name": "python3"
  },
  "language_info": {
   "codemirror_mode": {
    "name": "ipython",
    "version": 3
   },
   "file_extension": ".py",
   "mimetype": "text/x-python",
   "name": "python",
   "nbconvert_exporter": "python",
   "pygments_lexer": "ipython3",
   "version": "3.10.6"
  }
 },
 "nbformat": 4,
 "nbformat_minor": 5
}
